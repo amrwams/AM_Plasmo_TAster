{
 "cells": [
  {
   "cell_type": "markdown",
   "metadata": {},
   "source": [
    "# Summary stats on four sample plasmo genes-- 'crt', 'dhfr', 'dhps', 'mdr'"
   ]
  },
  {
   "cell_type": "code",
   "execution_count": null,
   "metadata": {},
   "outputs": [],
   "source": []
  },
  {
   "cell_type": "code",
   "execution_count": 1,
   "metadata": {},
   "outputs": [
    {
     "name": "stdout",
     "output_type": "stream",
     "text": [
      "Hello Plasmo World :)\n"
     ]
    }
   ],
   "source": [
    "print('Hello Plasmo World :)')"
   ]
  },
  {
   "cell_type": "code",
   "execution_count": null,
   "metadata": {},
   "outputs": [],
   "source": []
  },
  {
   "cell_type": "code",
   "execution_count": 2,
   "metadata": {},
   "outputs": [
    {
     "name": "stderr",
     "output_type": "stream",
     "text": [
      "/Users/am59/miniconda3/envs/amrwams/lib/python3.6/site-packages/h5py/__init__.py:36: FutureWarning: Conversion of the second argument of issubdtype from `float` to `np.floating` is deprecated. In future, it will be treated as `np.float64 == np.dtype(float).type`.\n",
      "  from ._conv import register_converters as _register_converters\n"
     ]
    }
   ],
   "source": [
    "#import required libraries\n",
    "\n",
    "import zarr\n",
    "import allel\n",
    "import numpy as np\n",
    "import pandas as pd\n",
    "import matplotlib.pyplot as plt"
   ]
  },
  {
   "cell_type": "code",
   "execution_count": null,
   "metadata": {},
   "outputs": [],
   "source": []
  },
  {
   "cell_type": "code",
   "execution_count": 3,
   "metadata": {},
   "outputs": [
    {
     "data": {
      "text/plain": [
       "<zarr.hierarchy.Group '/' read-only>"
      ]
     },
     "execution_count": 3,
     "metadata": {},
     "output_type": "execute_result"
    }
   ],
   "source": [
    "#open zarr file\n",
    "\n",
    "data = zarr.open('/Volumes/Team112/ra4/pf_60_public_release/Pf_60_public_wg.final.zarr', mode = 'r')\n",
    "data"
   ]
  },
  {
   "cell_type": "code",
   "execution_count": null,
   "metadata": {},
   "outputs": [],
   "source": []
  },
  {
   "cell_type": "code",
   "execution_count": 4,
   "metadata": {},
   "outputs": [
    {
     "data": {
      "text/html": [
       "<div class=\"allel allel-DisplayAsTable\"><span>&lt;VariantChunkedTable shape=(6051696,) dtype=[('CHROM', 'O'), ('POS', '&lt;i4'), ('FILTER_PASS', '?'), ('SNPEFF_AMINO_ACID_CHANGE', 'O'), ('SNPEFF_CODON_CHANGE', 'O'), ('SNPEFF_EFFECT', 'O'), ('SNPEFF_EXON_ID', 'O'), ('SNPEFF_FUNCTIONAL_CLASS', 'O'), ('SNPEFF_GENE_NAME', 'O'), ('SNPEFF_IMPACT', 'O'), ('is_snp', '?')]\n",
       "   nbytes=404.0M cbytes=51.4M cratio=7.9\n",
       "   values=zarr.hierarchy.Group&gt;</span><table><thead><tr><th></th><th style=\"text-align: center\">CHROM</th><th style=\"text-align: center\">POS</th><th style=\"text-align: center\">FILTER_PASS</th><th style=\"text-align: center\">SNPEFF_AMINO_ACID_CHANGE</th><th style=\"text-align: center\">SNPEFF_CODON_CHANGE</th><th style=\"text-align: center\">SNPEFF_EFFECT</th><th style=\"text-align: center\">SNPEFF_EXON_ID</th><th style=\"text-align: center\">SNPEFF_FUNCTIONAL_CLASS</th><th style=\"text-align: center\">SNPEFF_GENE_NAME</th><th style=\"text-align: center\">SNPEFF_IMPACT</th><th style=\"text-align: center\">is_snp</th></tr></thead><tbody><tr><th style=\"text-align: center; background-color: white; border-right: 1px solid black; \">0</th><td style=\"text-align: center\">Pf3D7_01_v3</td><td style=\"text-align: center\">30</td><td style=\"text-align: center\">False</td><td style=\"text-align: center\"></td><td style=\"text-align: center\"></td><td style=\"text-align: center\">INTERGENIC</td><td style=\"text-align: center\"></td><td style=\"text-align: center\">NONE</td><td style=\"text-align: center\"></td><td style=\"text-align: center\">MODIFIER</td><td style=\"text-align: center\">False</td></tr><tr><th style=\"text-align: center; background-color: white; border-right: 1px solid black; \">1</th><td style=\"text-align: center\">Pf3D7_01_v3</td><td style=\"text-align: center\">37</td><td style=\"text-align: center\">False</td><td style=\"text-align: center\"></td><td style=\"text-align: center\"></td><td style=\"text-align: center\">INTERGENIC</td><td style=\"text-align: center\"></td><td style=\"text-align: center\">NONE</td><td style=\"text-align: center\"></td><td style=\"text-align: center\">MODIFIER</td><td style=\"text-align: center\">False</td></tr><tr><th style=\"text-align: center; background-color: white; border-right: 1px solid black; \">2</th><td style=\"text-align: center\">Pf3D7_01_v3</td><td style=\"text-align: center\">58</td><td style=\"text-align: center\">False</td><td style=\"text-align: center\"></td><td style=\"text-align: center\"></td><td style=\"text-align: center\">INTERGENIC</td><td style=\"text-align: center\"></td><td style=\"text-align: center\">NONE</td><td style=\"text-align: center\"></td><td style=\"text-align: center\">MODIFIER</td><td style=\"text-align: center\">False</td></tr><tr><th style=\"text-align: center; background-color: white; border-right: 1px solid black; \">...</th><td style=\"text-align: center\" colspan=\"12\">...</td></tr><tr><th style=\"text-align: center; background-color: white; border-right: 1px solid black; \">6051693</th><td style=\"text-align: center\">Pf_M76611</td><td style=\"text-align: center\">5962</td><td style=\"text-align: center\">False</td><td style=\"text-align: center\"></td><td style=\"text-align: center\"></td><td style=\"text-align: center\"></td><td style=\"text-align: center\"></td><td style=\"text-align: center\"></td><td style=\"text-align: center\"></td><td style=\"text-align: center\"></td><td style=\"text-align: center\">True</td></tr><tr><th style=\"text-align: center; background-color: white; border-right: 1px solid black; \">6051694</th><td style=\"text-align: center\">Pf_M76611</td><td style=\"text-align: center\">5963</td><td style=\"text-align: center\">False</td><td style=\"text-align: center\"></td><td style=\"text-align: center\"></td><td style=\"text-align: center\"></td><td style=\"text-align: center\"></td><td style=\"text-align: center\"></td><td style=\"text-align: center\"></td><td style=\"text-align: center\"></td><td style=\"text-align: center\">True</td></tr><tr><th style=\"text-align: center; background-color: white; border-right: 1px solid black; \">6051695</th><td style=\"text-align: center\">Pf_M76611</td><td style=\"text-align: center\">5964</td><td style=\"text-align: center\">False</td><td style=\"text-align: center\"></td><td style=\"text-align: center\"></td><td style=\"text-align: center\"></td><td style=\"text-align: center\"></td><td style=\"text-align: center\"></td><td style=\"text-align: center\"></td><td style=\"text-align: center\"></td><td style=\"text-align: center\">True</td></tr></tbody></table></div>"
      ],
      "text/plain": [
       "<VariantChunkedTable shape=(6051696,) dtype=[('CHROM', 'O'), ('POS', '<i4'), ('FILTER_PASS', '?'), ('SNPEFF_AMINO_ACID_CHANGE', 'O'), ('SNPEFF_CODON_CHANGE', 'O'), ('SNPEFF_EFFECT', 'O'), ('SNPEFF_EXON_ID', 'O'), ('SNPEFF_FUNCTIONAL_CLASS', 'O'), ('SNPEFF_GENE_NAME', 'O'), ('SNPEFF_IMPACT', 'O'), ('is_snp', '?')]\n",
       "   nbytes=404.0M cbytes=51.4M cratio=7.9\n",
       "   values=zarr.hierarchy.Group>"
      ]
     },
     "execution_count": 4,
     "metadata": {},
     "output_type": "execute_result"
    }
   ],
   "source": [
    "#create chunked table\n",
    "\n",
    "data_variants = allel.VariantChunkedTable(data = data['variants'], names =  ['CHROM', \n",
    "                                                                             'POS', \n",
    "                                                                             'FILTER_PASS', \n",
    "                                                                             'SNPEFF_AMINO_ACID_CHANGE',\n",
    "                                                                             'SNPEFF_CODON_CHANGE',\n",
    "                                                                             'SNPEFF_EFFECT',\n",
    "                                                                             'SNPEFF_EXON_ID',\n",
    "                                                                             'SNPEFF_FUNCTIONAL_CLASS',\n",
    "                                                                             'SNPEFF_GENE_NAME',\n",
    "                                                                             'SNPEFF_IMPACT',\n",
    "                                                                             'is_snp'])\n",
    "\n",
    "data_variants"
   ]
  },
  {
   "cell_type": "code",
   "execution_count": null,
   "metadata": {},
   "outputs": [],
   "source": []
  },
  {
   "cell_type": "code",
   "execution_count": 5,
   "metadata": {},
   "outputs": [],
   "source": [
    "#Extract out data in the chuked tables corresponding to the four genes\n",
    "\n",
    "#chloroquine resistance transporter gene\n",
    "crt = data_variants[:][np.where((data_variants['CHROM'] == 'Pf3D7_01_v3') & \n",
    "                          (data_variants['POS'] >= 406222) & \n",
    "                          (data_variants['POS'] <= 406317) & \n",
    "                          (data_variants['FILTER_PASS']))]\n",
    "\n",
    "#dihydrofolate reductase gene\n",
    "\n",
    "dhfr = data_variants[:][np.where((data_variants['CHROM'] == 'Pf3D7_04_v3') & \n",
    "                          (data_variants['POS'] >= 748088) & \n",
    "                          (data_variants['POS'] <= 749914) & \n",
    "                          (data_variants['FILTER_PASS']))]\n",
    "\n",
    "\n",
    "#dihydropteroate synthase\n",
    "\n",
    "dhps = data_variants[:][np.where((data_variants['CHROM'] == 'Pf3D7_08_v3') & \n",
    "                          (data_variants['POS'] >= 548200) & \n",
    "                          (data_variants['POS'] <= 550616) & \n",
    "                          (data_variants['FILTER_PASS']))]\n",
    "\n",
    "\n",
    "#multidrug resistance protein\n",
    "\n",
    "mdr = data_variants[:][np.where((data_variants['CHROM'] == 'Pf3D7_05_v3') & \n",
    "                          (data_variants['POS'] >= 957890) & \n",
    "                          (data_variants['POS'] <= 962149) & \n",
    "                          (data_variants['FILTER_PASS']))]\n"
   ]
  },
  {
   "cell_type": "code",
   "execution_count": null,
   "metadata": {},
   "outputs": [],
   "source": []
  },
  {
   "cell_type": "code",
   "execution_count": 6,
   "metadata": {},
   "outputs": [],
   "source": [
    "#Transform the extracted data into a pandas data frame\n",
    "\n",
    "crt_pdframe = pd.DataFrame(crt)\n",
    "\n",
    "dhfr_pdframe = pd.DataFrame(dhfr)\n",
    "\n",
    "dhps_pdframe = pd.DataFrame(dhps)\n",
    "\n",
    "mdr_pdframe = pd.DataFrame(mdr)"
   ]
  },
  {
   "cell_type": "code",
   "execution_count": null,
   "metadata": {},
   "outputs": [],
   "source": []
  },
  {
   "cell_type": "code",
   "execution_count": 7,
   "metadata": {},
   "outputs": [
    {
     "data": {
      "text/html": [
       "<div>\n",
       "<style scoped>\n",
       "    .dataframe tbody tr th:only-of-type {\n",
       "        vertical-align: middle;\n",
       "    }\n",
       "\n",
       "    .dataframe tbody tr th {\n",
       "        vertical-align: top;\n",
       "    }\n",
       "\n",
       "    .dataframe thead th {\n",
       "        text-align: right;\n",
       "    }\n",
       "</style>\n",
       "<table border=\"1\" class=\"dataframe\">\n",
       "  <thead>\n",
       "    <tr style=\"text-align: right;\">\n",
       "      <th></th>\n",
       "      <th>CHROM</th>\n",
       "      <th>POS</th>\n",
       "      <th>FILTER_PASS</th>\n",
       "      <th>SNPEFF_AMINO_ACID_CHANGE</th>\n",
       "      <th>SNPEFF_CODON_CHANGE</th>\n",
       "      <th>SNPEFF_EFFECT</th>\n",
       "      <th>SNPEFF_EXON_ID</th>\n",
       "      <th>SNPEFF_FUNCTIONAL_CLASS</th>\n",
       "      <th>SNPEFF_GENE_NAME</th>\n",
       "      <th>SNPEFF_IMPACT</th>\n",
       "      <th>is_snp</th>\n",
       "    </tr>\n",
       "  </thead>\n",
       "  <tbody>\n",
       "    <tr>\n",
       "      <th>0</th>\n",
       "      <td>Pf3D7_01_v3</td>\n",
       "      <td>406228</td>\n",
       "      <td>True</td>\n",
       "      <td>NHNNIN164</td>\n",
       "      <td>aatcataataatataaat/</td>\n",
       "      <td>FRAME_SHIFT</td>\n",
       "      <td>1</td>\n",
       "      <td>NONE</td>\n",
       "      <td>PIP5K</td>\n",
       "      <td>HIGH</td>\n",
       "      <td>False</td>\n",
       "    </tr>\n",
       "    <tr>\n",
       "      <th>1</th>\n",
       "      <td>Pf3D7_01_v3</td>\n",
       "      <td>406229</td>\n",
       "      <td>True</td>\n",
       "      <td>N164S</td>\n",
       "      <td>aAt/aGt</td>\n",
       "      <td>NON_SYNONYMOUS_CODING</td>\n",
       "      <td>1</td>\n",
       "      <td>MISSENSE</td>\n",
       "      <td>PIP5K</td>\n",
       "      <td>MODERATE</td>\n",
       "      <td>False</td>\n",
       "    </tr>\n",
       "    <tr>\n",
       "      <th>2</th>\n",
       "      <td>Pf3D7_01_v3</td>\n",
       "      <td>406231</td>\n",
       "      <td>True</td>\n",
       "      <td>H165N</td>\n",
       "      <td>Cat/Aat</td>\n",
       "      <td>NON_SYNONYMOUS_CODING</td>\n",
       "      <td>1</td>\n",
       "      <td>MISSENSE</td>\n",
       "      <td>PIP5K</td>\n",
       "      <td>MODERATE</td>\n",
       "      <td>False</td>\n",
       "    </tr>\n",
       "    <tr>\n",
       "      <th>3</th>\n",
       "      <td>Pf3D7_01_v3</td>\n",
       "      <td>406232</td>\n",
       "      <td>True</td>\n",
       "      <td>H165R</td>\n",
       "      <td>cAt/cGt</td>\n",
       "      <td>NON_SYNONYMOUS_CODING</td>\n",
       "      <td>1</td>\n",
       "      <td>MISSENSE</td>\n",
       "      <td>PIP5K</td>\n",
       "      <td>MODERATE</td>\n",
       "      <td>False</td>\n",
       "    </tr>\n",
       "    <tr>\n",
       "      <th>4</th>\n",
       "      <td>Pf3D7_01_v3</td>\n",
       "      <td>406234</td>\n",
       "      <td>True</td>\n",
       "      <td>N166D</td>\n",
       "      <td>Aat/Gat</td>\n",
       "      <td>NON_SYNONYMOUS_CODING</td>\n",
       "      <td>1</td>\n",
       "      <td>MISSENSE</td>\n",
       "      <td>PIP5K</td>\n",
       "      <td>MODERATE</td>\n",
       "      <td>False</td>\n",
       "    </tr>\n",
       "    <tr>\n",
       "      <th>5</th>\n",
       "      <td>Pf3D7_01_v3</td>\n",
       "      <td>406237</td>\n",
       "      <td>True</td>\n",
       "      <td>N167H</td>\n",
       "      <td>Aat/Cat</td>\n",
       "      <td>NON_SYNONYMOUS_CODING</td>\n",
       "      <td>1</td>\n",
       "      <td>MISSENSE</td>\n",
       "      <td>PIP5K</td>\n",
       "      <td>MODERATE</td>\n",
       "      <td>False</td>\n",
       "    </tr>\n",
       "    <tr>\n",
       "      <th>6</th>\n",
       "      <td>Pf3D7_01_v3</td>\n",
       "      <td>406239</td>\n",
       "      <td>True</td>\n",
       "      <td>N167K</td>\n",
       "      <td>aaT/aaG</td>\n",
       "      <td>NON_SYNONYMOUS_CODING</td>\n",
       "      <td>1</td>\n",
       "      <td>MISSENSE</td>\n",
       "      <td>PIP5K</td>\n",
       "      <td>MODERATE</td>\n",
       "      <td>False</td>\n",
       "    </tr>\n",
       "    <tr>\n",
       "      <th>7</th>\n",
       "      <td>Pf3D7_01_v3</td>\n",
       "      <td>406240</td>\n",
       "      <td>True</td>\n",
       "      <td>ING168S</td>\n",
       "      <td>ataaatggt/agt</td>\n",
       "      <td>CODON_CHANGE_PLUS_CODON_DELETION</td>\n",
       "      <td>1</td>\n",
       "      <td>NONE</td>\n",
       "      <td>PIP5K</td>\n",
       "      <td>MODERATE</td>\n",
       "      <td>False</td>\n",
       "    </tr>\n",
       "    <tr>\n",
       "      <th>8</th>\n",
       "      <td>Pf3D7_01_v3</td>\n",
       "      <td>406242</td>\n",
       "      <td>True</td>\n",
       "      <td>I168M</td>\n",
       "      <td>atA/atG</td>\n",
       "      <td>NON_SYNONYMOUS_CODING</td>\n",
       "      <td>1</td>\n",
       "      <td>MISSENSE</td>\n",
       "      <td>PIP5K</td>\n",
       "      <td>MODERATE</td>\n",
       "      <td>False</td>\n",
       "    </tr>\n",
       "    <tr>\n",
       "      <th>9</th>\n",
       "      <td>Pf3D7_01_v3</td>\n",
       "      <td>406244</td>\n",
       "      <td>True</td>\n",
       "      <td>N169I</td>\n",
       "      <td>aAt/aTt</td>\n",
       "      <td>NON_SYNONYMOUS_CODING</td>\n",
       "      <td>1</td>\n",
       "      <td>MISSENSE</td>\n",
       "      <td>PIP5K</td>\n",
       "      <td>MODERATE</td>\n",
       "      <td>False</td>\n",
       "    </tr>\n",
       "    <tr>\n",
       "      <th>10</th>\n",
       "      <td>Pf3D7_01_v3</td>\n",
       "      <td>406246</td>\n",
       "      <td>True</td>\n",
       "      <td>GDNNNNN170</td>\n",
       "      <td>ggtgataataataataataat/</td>\n",
       "      <td>FRAME_SHIFT</td>\n",
       "      <td>1</td>\n",
       "      <td>NONE</td>\n",
       "      <td>PIP5K</td>\n",
       "      <td>HIGH</td>\n",
       "      <td>False</td>\n",
       "    </tr>\n",
       "    <tr>\n",
       "      <th>11</th>\n",
       "      <td>Pf3D7_01_v3</td>\n",
       "      <td>406255</td>\n",
       "      <td>True</td>\n",
       "      <td>NNNNH173N</td>\n",
       "      <td>aataataataatcat/aat</td>\n",
       "      <td>CODON_DELETION</td>\n",
       "      <td>1</td>\n",
       "      <td>NONE</td>\n",
       "      <td>PIP5K</td>\n",
       "      <td>MODERATE</td>\n",
       "      <td>False</td>\n",
       "    </tr>\n",
       "    <tr>\n",
       "      <th>12</th>\n",
       "      <td>Pf3D7_01_v3</td>\n",
       "      <td>406257</td>\n",
       "      <td>True</td>\n",
       "      <td>N173K</td>\n",
       "      <td>aaT/aaG</td>\n",
       "      <td>NON_SYNONYMOUS_CODING</td>\n",
       "      <td>1</td>\n",
       "      <td>MISSENSE</td>\n",
       "      <td>PIP5K</td>\n",
       "      <td>MODERATE</td>\n",
       "      <td>False</td>\n",
       "    </tr>\n",
       "    <tr>\n",
       "      <th>13</th>\n",
       "      <td>Pf3D7_01_v3</td>\n",
       "      <td>406258</td>\n",
       "      <td>True</td>\n",
       "      <td>NNNH174N</td>\n",
       "      <td>aataataatcat/aat</td>\n",
       "      <td>CODON_DELETION</td>\n",
       "      <td>1</td>\n",
       "      <td>NONE</td>\n",
       "      <td>PIP5K</td>\n",
       "      <td>MODERATE</td>\n",
       "      <td>False</td>\n",
       "    </tr>\n",
       "    <tr>\n",
       "      <th>14</th>\n",
       "      <td>Pf3D7_01_v3</td>\n",
       "      <td>406260</td>\n",
       "      <td>True</td>\n",
       "      <td>NN175</td>\n",
       "      <td>aataat/</td>\n",
       "      <td>FRAME_SHIFT</td>\n",
       "      <td>1</td>\n",
       "      <td>NONE</td>\n",
       "      <td>PIP5K</td>\n",
       "      <td>HIGH</td>\n",
       "      <td>False</td>\n",
       "    </tr>\n",
       "    <tr>\n",
       "      <th>15</th>\n",
       "      <td>Pf3D7_01_v3</td>\n",
       "      <td>406261</td>\n",
       "      <td>True</td>\n",
       "      <td>NNHNNIN175</td>\n",
       "      <td>aataatcataataatataaat/</td>\n",
       "      <td>FRAME_SHIFT</td>\n",
       "      <td>1</td>\n",
       "      <td>NONE</td>\n",
       "      <td>PIP5K</td>\n",
       "      <td>HIGH</td>\n",
       "      <td>False</td>\n",
       "    </tr>\n",
       "    <tr>\n",
       "      <th>16</th>\n",
       "      <td>Pf3D7_01_v3</td>\n",
       "      <td>406262</td>\n",
       "      <td>True</td>\n",
       "      <td>N175S</td>\n",
       "      <td>aAt/aGt</td>\n",
       "      <td>NON_SYNONYMOUS_CODING</td>\n",
       "      <td>1</td>\n",
       "      <td>MISSENSE</td>\n",
       "      <td>PIP5K</td>\n",
       "      <td>MODERATE</td>\n",
       "      <td>False</td>\n",
       "    </tr>\n",
       "    <tr>\n",
       "      <th>17</th>\n",
       "      <td>Pf3D7_01_v3</td>\n",
       "      <td>406263</td>\n",
       "      <td>True</td>\n",
       "      <td>N175K</td>\n",
       "      <td>aaT/aaG</td>\n",
       "      <td>NON_SYNONYMOUS_CODING</td>\n",
       "      <td>1</td>\n",
       "      <td>MISSENSE</td>\n",
       "      <td>PIP5K</td>\n",
       "      <td>MODERATE</td>\n",
       "      <td>False</td>\n",
       "    </tr>\n",
       "    <tr>\n",
       "      <th>18</th>\n",
       "      <td>Pf3D7_01_v3</td>\n",
       "      <td>406264</td>\n",
       "      <td>True</td>\n",
       "      <td>NHNNIN176</td>\n",
       "      <td>aatcataataatataaat/</td>\n",
       "      <td>FRAME_SHIFT</td>\n",
       "      <td>1</td>\n",
       "      <td>NONE</td>\n",
       "      <td>PIP5K</td>\n",
       "      <td>HIGH</td>\n",
       "      <td>False</td>\n",
       "    </tr>\n",
       "    <tr>\n",
       "      <th>19</th>\n",
       "      <td>Pf3D7_01_v3</td>\n",
       "      <td>406265</td>\n",
       "      <td>True</td>\n",
       "      <td>N176K?</td>\n",
       "      <td>aat/aaGGt</td>\n",
       "      <td>FRAME_SHIFT</td>\n",
       "      <td>1</td>\n",
       "      <td>NONE</td>\n",
       "      <td>PIP5K</td>\n",
       "      <td>HIGH</td>\n",
       "      <td>False</td>\n",
       "    </tr>\n",
       "    <tr>\n",
       "      <th>20</th>\n",
       "      <td>Pf3D7_01_v3</td>\n",
       "      <td>406267</td>\n",
       "      <td>True</td>\n",
       "      <td>H177D</td>\n",
       "      <td>Cat/Gat</td>\n",
       "      <td>NON_SYNONYMOUS_CODING</td>\n",
       "      <td>1</td>\n",
       "      <td>MISSENSE</td>\n",
       "      <td>PIP5K</td>\n",
       "      <td>MODERATE</td>\n",
       "      <td>False</td>\n",
       "    </tr>\n",
       "    <tr>\n",
       "      <th>21</th>\n",
       "      <td>Pf3D7_01_v3</td>\n",
       "      <td>406268</td>\n",
       "      <td>True</td>\n",
       "      <td>H177R</td>\n",
       "      <td>cAt/cGt</td>\n",
       "      <td>NON_SYNONYMOUS_CODING</td>\n",
       "      <td>1</td>\n",
       "      <td>MISSENSE</td>\n",
       "      <td>PIP5K</td>\n",
       "      <td>MODERATE</td>\n",
       "      <td>False</td>\n",
       "    </tr>\n",
       "    <tr>\n",
       "      <th>22</th>\n",
       "      <td>Pf3D7_01_v3</td>\n",
       "      <td>406270</td>\n",
       "      <td>True</td>\n",
       "      <td>N178D</td>\n",
       "      <td>Aat/Gat</td>\n",
       "      <td>NON_SYNONYMOUS_CODING</td>\n",
       "      <td>1</td>\n",
       "      <td>MISSENSE</td>\n",
       "      <td>PIP5K</td>\n",
       "      <td>MODERATE</td>\n",
       "      <td>False</td>\n",
       "    </tr>\n",
       "    <tr>\n",
       "      <th>23</th>\n",
       "      <td>Pf3D7_01_v3</td>\n",
       "      <td>406275</td>\n",
       "      <td>True</td>\n",
       "      <td>N179</td>\n",
       "      <td>aaT/aaC</td>\n",
       "      <td>SYNONYMOUS_CODING</td>\n",
       "      <td>1</td>\n",
       "      <td>SILENT</td>\n",
       "      <td>PIP5K</td>\n",
       "      <td>LOW</td>\n",
       "      <td>False</td>\n",
       "    </tr>\n",
       "    <tr>\n",
       "      <th>24</th>\n",
       "      <td>Pf3D7_01_v3</td>\n",
       "      <td>406276</td>\n",
       "      <td>True</td>\n",
       "      <td>IN180</td>\n",
       "      <td>ataaat/</td>\n",
       "      <td>FRAME_SHIFT</td>\n",
       "      <td>1</td>\n",
       "      <td>NONE</td>\n",
       "      <td>PIP5K</td>\n",
       "      <td>HIGH</td>\n",
       "      <td>False</td>\n",
       "    </tr>\n",
       "    <tr>\n",
       "      <th>25</th>\n",
       "      <td>Pf3D7_01_v3</td>\n",
       "      <td>406282</td>\n",
       "      <td>True</td>\n",
       "      <td>GDNNNN182</td>\n",
       "      <td>ggtgataataataataat/</td>\n",
       "      <td>FRAME_SHIFT</td>\n",
       "      <td>1</td>\n",
       "      <td>NONE</td>\n",
       "      <td>PIP5K</td>\n",
       "      <td>HIGH</td>\n",
       "      <td>False</td>\n",
       "    </tr>\n",
       "    <tr>\n",
       "      <th>26</th>\n",
       "      <td>Pf3D7_01_v3</td>\n",
       "      <td>406298</td>\n",
       "      <td>True</td>\n",
       "      <td>N187S</td>\n",
       "      <td>aAt/aGt</td>\n",
       "      <td>NON_SYNONYMOUS_CODING</td>\n",
       "      <td>1</td>\n",
       "      <td>MISSENSE</td>\n",
       "      <td>PIP5K</td>\n",
       "      <td>MODERATE</td>\n",
       "      <td>False</td>\n",
       "    </tr>\n",
       "    <tr>\n",
       "      <th>27</th>\n",
       "      <td>Pf3D7_01_v3</td>\n",
       "      <td>406300</td>\n",
       "      <td>True</td>\n",
       "      <td>HNNINGDNNNNNHNNINGDNNNNHNNINGDNNNNHNNSHN188H</td>\n",
       "      <td></td>\n",
       "      <td>CODON_DELETION</td>\n",
       "      <td>1</td>\n",
       "      <td>NONE</td>\n",
       "      <td>PIP5K</td>\n",
       "      <td>MODERATE</td>\n",
       "      <td>False</td>\n",
       "    </tr>\n",
       "    <tr>\n",
       "      <th>28</th>\n",
       "      <td>Pf3D7_01_v3</td>\n",
       "      <td>406303</td>\n",
       "      <td>True</td>\n",
       "      <td>NNINGDNNNNNHNNINGDNNNNHNNINGDNNNNH189N</td>\n",
       "      <td>aataatataaatggtgataataataataataatcataataatataa...</td>\n",
       "      <td>CODON_DELETION</td>\n",
       "      <td>1</td>\n",
       "      <td>NONE</td>\n",
       "      <td>PIP5K</td>\n",
       "      <td>MODERATE</td>\n",
       "      <td>False</td>\n",
       "    </tr>\n",
       "    <tr>\n",
       "      <th>29</th>\n",
       "      <td>Pf3D7_01_v3</td>\n",
       "      <td>406309</td>\n",
       "      <td>True</td>\n",
       "      <td>IN191</td>\n",
       "      <td>ataaat/</td>\n",
       "      <td>FRAME_SHIFT</td>\n",
       "      <td>1</td>\n",
       "      <td>NONE</td>\n",
       "      <td>PIP5K</td>\n",
       "      <td>HIGH</td>\n",
       "      <td>False</td>\n",
       "    </tr>\n",
       "    <tr>\n",
       "      <th>30</th>\n",
       "      <td>Pf3D7_01_v3</td>\n",
       "      <td>406315</td>\n",
       "      <td>True</td>\n",
       "      <td>GDNNNNN193</td>\n",
       "      <td>ggtgataataataataataat/</td>\n",
       "      <td>FRAME_SHIFT</td>\n",
       "      <td>1</td>\n",
       "      <td>NONE</td>\n",
       "      <td>PIP5K</td>\n",
       "      <td>HIGH</td>\n",
       "      <td>False</td>\n",
       "    </tr>\n",
       "  </tbody>\n",
       "</table>\n",
       "</div>"
      ],
      "text/plain": [
       "          CHROM     POS  FILTER_PASS  \\\n",
       "0   Pf3D7_01_v3  406228         True   \n",
       "1   Pf3D7_01_v3  406229         True   \n",
       "2   Pf3D7_01_v3  406231         True   \n",
       "3   Pf3D7_01_v3  406232         True   \n",
       "4   Pf3D7_01_v3  406234         True   \n",
       "5   Pf3D7_01_v3  406237         True   \n",
       "6   Pf3D7_01_v3  406239         True   \n",
       "7   Pf3D7_01_v3  406240         True   \n",
       "8   Pf3D7_01_v3  406242         True   \n",
       "9   Pf3D7_01_v3  406244         True   \n",
       "10  Pf3D7_01_v3  406246         True   \n",
       "11  Pf3D7_01_v3  406255         True   \n",
       "12  Pf3D7_01_v3  406257         True   \n",
       "13  Pf3D7_01_v3  406258         True   \n",
       "14  Pf3D7_01_v3  406260         True   \n",
       "15  Pf3D7_01_v3  406261         True   \n",
       "16  Pf3D7_01_v3  406262         True   \n",
       "17  Pf3D7_01_v3  406263         True   \n",
       "18  Pf3D7_01_v3  406264         True   \n",
       "19  Pf3D7_01_v3  406265         True   \n",
       "20  Pf3D7_01_v3  406267         True   \n",
       "21  Pf3D7_01_v3  406268         True   \n",
       "22  Pf3D7_01_v3  406270         True   \n",
       "23  Pf3D7_01_v3  406275         True   \n",
       "24  Pf3D7_01_v3  406276         True   \n",
       "25  Pf3D7_01_v3  406282         True   \n",
       "26  Pf3D7_01_v3  406298         True   \n",
       "27  Pf3D7_01_v3  406300         True   \n",
       "28  Pf3D7_01_v3  406303         True   \n",
       "29  Pf3D7_01_v3  406309         True   \n",
       "30  Pf3D7_01_v3  406315         True   \n",
       "\n",
       "                        SNPEFF_AMINO_ACID_CHANGE  \\\n",
       "0                                      NHNNIN164   \n",
       "1                                          N164S   \n",
       "2                                          H165N   \n",
       "3                                          H165R   \n",
       "4                                          N166D   \n",
       "5                                          N167H   \n",
       "6                                          N167K   \n",
       "7                                        ING168S   \n",
       "8                                          I168M   \n",
       "9                                          N169I   \n",
       "10                                    GDNNNNN170   \n",
       "11                                     NNNNH173N   \n",
       "12                                         N173K   \n",
       "13                                      NNNH174N   \n",
       "14                                         NN175   \n",
       "15                                    NNHNNIN175   \n",
       "16                                         N175S   \n",
       "17                                         N175K   \n",
       "18                                     NHNNIN176   \n",
       "19                                        N176K?   \n",
       "20                                         H177D   \n",
       "21                                         H177R   \n",
       "22                                         N178D   \n",
       "23                                          N179   \n",
       "24                                         IN180   \n",
       "25                                     GDNNNN182   \n",
       "26                                         N187S   \n",
       "27  HNNINGDNNNNNHNNINGDNNNNHNNINGDNNNNHNNSHN188H   \n",
       "28        NNINGDNNNNNHNNINGDNNNNHNNINGDNNNNH189N   \n",
       "29                                         IN191   \n",
       "30                                    GDNNNNN193   \n",
       "\n",
       "                                  SNPEFF_CODON_CHANGE  \\\n",
       "0                                 aatcataataatataaat/   \n",
       "1                                             aAt/aGt   \n",
       "2                                             Cat/Aat   \n",
       "3                                             cAt/cGt   \n",
       "4                                             Aat/Gat   \n",
       "5                                             Aat/Cat   \n",
       "6                                             aaT/aaG   \n",
       "7                                       ataaatggt/agt   \n",
       "8                                             atA/atG   \n",
       "9                                             aAt/aTt   \n",
       "10                             ggtgataataataataataat/   \n",
       "11                                aataataataatcat/aat   \n",
       "12                                            aaT/aaG   \n",
       "13                                   aataataatcat/aat   \n",
       "14                                            aataat/   \n",
       "15                             aataatcataataatataaat/   \n",
       "16                                            aAt/aGt   \n",
       "17                                            aaT/aaG   \n",
       "18                                aatcataataatataaat/   \n",
       "19                                          aat/aaGGt   \n",
       "20                                            Cat/Gat   \n",
       "21                                            cAt/cGt   \n",
       "22                                            Aat/Gat   \n",
       "23                                            aaT/aaC   \n",
       "24                                            ataaat/   \n",
       "25                                ggtgataataataataat/   \n",
       "26                                            aAt/aGt   \n",
       "27                                                      \n",
       "28  aataatataaatggtgataataataataataatcataataatataa...   \n",
       "29                                            ataaat/   \n",
       "30                             ggtgataataataataataat/   \n",
       "\n",
       "                       SNPEFF_EFFECT SNPEFF_EXON_ID SNPEFF_FUNCTIONAL_CLASS  \\\n",
       "0                        FRAME_SHIFT              1                    NONE   \n",
       "1              NON_SYNONYMOUS_CODING              1                MISSENSE   \n",
       "2              NON_SYNONYMOUS_CODING              1                MISSENSE   \n",
       "3              NON_SYNONYMOUS_CODING              1                MISSENSE   \n",
       "4              NON_SYNONYMOUS_CODING              1                MISSENSE   \n",
       "5              NON_SYNONYMOUS_CODING              1                MISSENSE   \n",
       "6              NON_SYNONYMOUS_CODING              1                MISSENSE   \n",
       "7   CODON_CHANGE_PLUS_CODON_DELETION              1                    NONE   \n",
       "8              NON_SYNONYMOUS_CODING              1                MISSENSE   \n",
       "9              NON_SYNONYMOUS_CODING              1                MISSENSE   \n",
       "10                       FRAME_SHIFT              1                    NONE   \n",
       "11                    CODON_DELETION              1                    NONE   \n",
       "12             NON_SYNONYMOUS_CODING              1                MISSENSE   \n",
       "13                    CODON_DELETION              1                    NONE   \n",
       "14                       FRAME_SHIFT              1                    NONE   \n",
       "15                       FRAME_SHIFT              1                    NONE   \n",
       "16             NON_SYNONYMOUS_CODING              1                MISSENSE   \n",
       "17             NON_SYNONYMOUS_CODING              1                MISSENSE   \n",
       "18                       FRAME_SHIFT              1                    NONE   \n",
       "19                       FRAME_SHIFT              1                    NONE   \n",
       "20             NON_SYNONYMOUS_CODING              1                MISSENSE   \n",
       "21             NON_SYNONYMOUS_CODING              1                MISSENSE   \n",
       "22             NON_SYNONYMOUS_CODING              1                MISSENSE   \n",
       "23                 SYNONYMOUS_CODING              1                  SILENT   \n",
       "24                       FRAME_SHIFT              1                    NONE   \n",
       "25                       FRAME_SHIFT              1                    NONE   \n",
       "26             NON_SYNONYMOUS_CODING              1                MISSENSE   \n",
       "27                    CODON_DELETION              1                    NONE   \n",
       "28                    CODON_DELETION              1                    NONE   \n",
       "29                       FRAME_SHIFT              1                    NONE   \n",
       "30                       FRAME_SHIFT              1                    NONE   \n",
       "\n",
       "   SNPEFF_GENE_NAME SNPEFF_IMPACT  is_snp  \n",
       "0             PIP5K          HIGH   False  \n",
       "1             PIP5K      MODERATE   False  \n",
       "2             PIP5K      MODERATE   False  \n",
       "3             PIP5K      MODERATE   False  \n",
       "4             PIP5K      MODERATE   False  \n",
       "5             PIP5K      MODERATE   False  \n",
       "6             PIP5K      MODERATE   False  \n",
       "7             PIP5K      MODERATE   False  \n",
       "8             PIP5K      MODERATE   False  \n",
       "9             PIP5K      MODERATE   False  \n",
       "10            PIP5K          HIGH   False  \n",
       "11            PIP5K      MODERATE   False  \n",
       "12            PIP5K      MODERATE   False  \n",
       "13            PIP5K      MODERATE   False  \n",
       "14            PIP5K          HIGH   False  \n",
       "15            PIP5K          HIGH   False  \n",
       "16            PIP5K      MODERATE   False  \n",
       "17            PIP5K      MODERATE   False  \n",
       "18            PIP5K          HIGH   False  \n",
       "19            PIP5K          HIGH   False  \n",
       "20            PIP5K      MODERATE   False  \n",
       "21            PIP5K      MODERATE   False  \n",
       "22            PIP5K      MODERATE   False  \n",
       "23            PIP5K           LOW   False  \n",
       "24            PIP5K          HIGH   False  \n",
       "25            PIP5K          HIGH   False  \n",
       "26            PIP5K      MODERATE   False  \n",
       "27            PIP5K      MODERATE   False  \n",
       "28            PIP5K      MODERATE   False  \n",
       "29            PIP5K          HIGH   False  \n",
       "30            PIP5K          HIGH   False  "
      ]
     },
     "execution_count": 7,
     "metadata": {},
     "output_type": "execute_result"
    }
   ],
   "source": [
    "#Sample pandas dataframe for the crt gene \n",
    "\n",
    "crt_pdframe"
   ]
  },
  {
   "cell_type": "code",
   "execution_count": null,
   "metadata": {},
   "outputs": [],
   "source": []
  },
  {
   "cell_type": "code",
   "execution_count": 8,
   "metadata": {},
   "outputs": [
    {
     "data": {
      "text/plain": [
       "False    31\n",
       "Name: is_snp, dtype: int64"
      ]
     },
     "execution_count": 8,
     "metadata": {},
     "output_type": "execute_result"
    }
   ],
   "source": [
    "#Calculate how many mutations are snps\n",
    "\n",
    "crt_pdframe['is_snp'].value_counts()"
   ]
  },
  {
   "cell_type": "code",
   "execution_count": null,
   "metadata": {},
   "outputs": [],
   "source": []
  },
  {
   "cell_type": "code",
   "execution_count": 9,
   "metadata": {},
   "outputs": [
    {
     "data": {
      "text/plain": [
       "<matplotlib.axes._subplots.AxesSubplot at 0x18f931e48>"
      ]
     },
     "execution_count": 9,
     "metadata": {},
     "output_type": "execute_result"
    },
    {
     "data": {
      "image/png": "[encoded data removed]",
      "text/plain": [
       "<Figure size 432x288 with 1 Axes>"
      ]
     },
     "metadata": {},
     "output_type": "display_data"
    }
   ],
   "source": [
    "#generate corresponding plot\n",
    "\n",
    "crt_pdframe['is_snp'].value_counts().plot.bar(title = 'Number of Mutations that are snps')"
   ]
  },
  {
   "cell_type": "code",
   "execution_count": null,
   "metadata": {},
   "outputs": [],
   "source": []
  },
  {
   "cell_type": "code",
   "execution_count": 10,
   "metadata": {},
   "outputs": [
    {
     "data": {
      "text/plain": [
       "NON_SYNONYMOUS_CODING               15\n",
       "FRAME_SHIFT                         10\n",
       "CODON_DELETION                       4\n",
       "SYNONYMOUS_CODING                    1\n",
       "CODON_CHANGE_PLUS_CODON_DELETION     1\n",
       "Name: SNPEFF_EFFECT, dtype: int64"
      ]
     },
     "execution_count": 10,
     "metadata": {},
     "output_type": "execute_result"
    }
   ],
   "source": [
    "#sub-group the data based on snpeff effect\n",
    "\n",
    "crt_pdframe['SNPEFF_EFFECT'].value_counts()"
   ]
  },
  {
   "cell_type": "code",
   "execution_count": null,
   "metadata": {},
   "outputs": [],
   "source": []
  },
  {
   "cell_type": "code",
   "execution_count": 11,
   "metadata": {},
   "outputs": [
    {
     "data": {
      "text/plain": [
       "SNPEFF_EFFECT                     SNPEFF_IMPACT\n",
       "CODON_CHANGE_PLUS_CODON_DELETION  MODERATE          1\n",
       "CODON_DELETION                    MODERATE          4\n",
       "FRAME_SHIFT                       HIGH             10\n",
       "NON_SYNONYMOUS_CODING             MODERATE         15\n",
       "SYNONYMOUS_CODING                 LOW               1\n",
       "Name: FILTER_PASS, dtype: int64"
      ]
     },
     "execution_count": 11,
     "metadata": {},
     "output_type": "execute_result"
    }
   ],
   "source": [
    "#determine the impact of snpeff_effect\n",
    "\n",
    "crt_pdframe.groupby(['SNPEFF_EFFECT', 'SNPEFF_IMPACT'])['FILTER_PASS'].count()"
   ]
  },
  {
   "cell_type": "code",
   "execution_count": 12,
   "metadata": {},
   "outputs": [],
   "source": [
    "##The same steps repeated for the other 3 genes\n"
   ]
  },
  {
   "cell_type": "code",
   "execution_count": null,
   "metadata": {},
   "outputs": [],
   "source": []
  },
  {
   "cell_type": "markdown",
   "metadata": {},
   "source": [
    "## dhfr"
   ]
  },
  {
   "cell_type": "code",
   "execution_count": null,
   "metadata": {},
   "outputs": [],
   "source": []
  },
  {
   "cell_type": "code",
   "execution_count": 13,
   "metadata": {},
   "outputs": [
    {
     "data": {
      "text/plain": [
       "True     52\n",
       "False     1\n",
       "Name: is_snp, dtype: int64"
      ]
     },
     "execution_count": 13,
     "metadata": {},
     "output_type": "execute_result"
    }
   ],
   "source": [
    "dhfr_pdframe['is_snp'].value_counts()"
   ]
  },
  {
   "cell_type": "code",
   "execution_count": null,
   "metadata": {},
   "outputs": [],
   "source": []
  },
  {
   "cell_type": "code",
   "execution_count": 14,
   "metadata": {},
   "outputs": [
    {
     "data": {
      "text/plain": [
       "<matplotlib.axes._subplots.AxesSubplot at 0x173218f98>"
      ]
     },
     "execution_count": 14,
     "metadata": {},
     "output_type": "execute_result"
    },
    {
     "data": {
      "image/png": "[encoded data removed]",
      "text/plain": [
       "<Figure size 432x288 with 1 Axes>"
      ]
     },
     "metadata": {},
     "output_type": "display_data"
    }
   ],
   "source": [
    "dhfr_pdframe['is_snp'].value_counts().plot.bar(title = 'Number of Mutations that are snps')"
   ]
  },
  {
   "cell_type": "code",
   "execution_count": null,
   "metadata": {},
   "outputs": [],
   "source": []
  },
  {
   "cell_type": "code",
   "execution_count": 15,
   "metadata": {},
   "outputs": [
    {
     "data": {
      "text/plain": [
       "SYNONYMOUS_CODING        28\n",
       "NON_SYNONYMOUS_CODING    24\n",
       "CODON_DELETION            1\n",
       "Name: SNPEFF_EFFECT, dtype: int64"
      ]
     },
     "execution_count": 15,
     "metadata": {},
     "output_type": "execute_result"
    }
   ],
   "source": [
    "dhfr_pdframe['SNPEFF_EFFECT'].value_counts()"
   ]
  },
  {
   "cell_type": "code",
   "execution_count": null,
   "metadata": {},
   "outputs": [],
   "source": []
  },
  {
   "cell_type": "code",
   "execution_count": 16,
   "metadata": {},
   "outputs": [
    {
     "data": {
      "text/plain": [
       "SNPEFF_EFFECT          SNPEFF_IMPACT\n",
       "CODON_DELETION         MODERATE          1\n",
       "NON_SYNONYMOUS_CODING  MODERATE         24\n",
       "SYNONYMOUS_CODING      LOW              28\n",
       "Name: FILTER_PASS, dtype: int64"
      ]
     },
     "execution_count": 16,
     "metadata": {},
     "output_type": "execute_result"
    }
   ],
   "source": [
    "dhfr_pdframe.groupby(['SNPEFF_EFFECT', 'SNPEFF_IMPACT'])['FILTER_PASS'].count()"
   ]
  },
  {
   "cell_type": "code",
   "execution_count": null,
   "metadata": {},
   "outputs": [],
   "source": []
  },
  {
   "cell_type": "markdown",
   "metadata": {},
   "source": [
    "## dhps"
   ]
  },
  {
   "cell_type": "code",
   "execution_count": null,
   "metadata": {},
   "outputs": [],
   "source": []
  },
  {
   "cell_type": "code",
   "execution_count": 17,
   "metadata": {},
   "outputs": [
    {
     "data": {
      "text/plain": [
       "True     52\n",
       "False    30\n",
       "Name: is_snp, dtype: int64"
      ]
     },
     "execution_count": 17,
     "metadata": {},
     "output_type": "execute_result"
    }
   ],
   "source": [
    "dhps_pdframe['is_snp'].value_counts()"
   ]
  },
  {
   "cell_type": "code",
   "execution_count": null,
   "metadata": {},
   "outputs": [],
   "source": []
  },
  {
   "cell_type": "code",
   "execution_count": 18,
   "metadata": {},
   "outputs": [
    {
     "data": {
      "text/plain": [
       "<matplotlib.axes._subplots.AxesSubplot at 0x1863bb2e8>"
      ]
     },
     "execution_count": 18,
     "metadata": {},
     "output_type": "execute_result"
    },
    {
     "data": {
      "image/png": "[encoded data removed]",
      "text/plain": [
       "<Figure size 432x288 with 1 Axes>"
      ]
     },
     "metadata": {},
     "output_type": "display_data"
    }
   ],
   "source": [
    "dhps_pdframe['is_snp'].value_counts().plot.bar(title = 'Number of Mutations that are snps')"
   ]
  },
  {
   "cell_type": "code",
   "execution_count": null,
   "metadata": {},
   "outputs": [],
   "source": []
  },
  {
   "cell_type": "code",
   "execution_count": 19,
   "metadata": {},
   "outputs": [
    {
     "data": {
      "text/plain": [
       "INTRON                   33\n",
       "NON_SYNONYMOUS_CODING    29\n",
       "SYNONYMOUS_CODING        17\n",
       "FRAME_SHIFT               1\n",
       "CODON_INSERTION           1\n",
       "STOP_GAINED               1\n",
       "Name: SNPEFF_EFFECT, dtype: int64"
      ]
     },
     "execution_count": 19,
     "metadata": {},
     "output_type": "execute_result"
    }
   ],
   "source": [
    "dhps_pdframe['SNPEFF_EFFECT'].value_counts()"
   ]
  },
  {
   "cell_type": "code",
   "execution_count": null,
   "metadata": {},
   "outputs": [],
   "source": []
  },
  {
   "cell_type": "code",
   "execution_count": 20,
   "metadata": {},
   "outputs": [
    {
     "data": {
      "text/plain": [
       "SNPEFF_EFFECT          SNPEFF_IMPACT\n",
       "CODON_INSERTION        MODERATE          1\n",
       "FRAME_SHIFT            HIGH              1\n",
       "INTRON                 MODIFIER         33\n",
       "NON_SYNONYMOUS_CODING  MODERATE         29\n",
       "STOP_GAINED            HIGH              1\n",
       "SYNONYMOUS_CODING      LOW              17\n",
       "Name: FILTER_PASS, dtype: int64"
      ]
     },
     "execution_count": 20,
     "metadata": {},
     "output_type": "execute_result"
    }
   ],
   "source": [
    "dhps_pdframe.groupby(['SNPEFF_EFFECT', 'SNPEFF_IMPACT'])['FILTER_PASS'].count()"
   ]
  },
  {
   "cell_type": "code",
   "execution_count": null,
   "metadata": {},
   "outputs": [],
   "source": []
  },
  {
   "cell_type": "markdown",
   "metadata": {},
   "source": [
    "## mdr"
   ]
  },
  {
   "cell_type": "code",
   "execution_count": null,
   "metadata": {},
   "outputs": [],
   "source": []
  },
  {
   "cell_type": "code",
   "execution_count": 21,
   "metadata": {},
   "outputs": [
    {
     "data": {
      "text/plain": [
       "True     384\n",
       "False     40\n",
       "Name: is_snp, dtype: int64"
      ]
     },
     "execution_count": 21,
     "metadata": {},
     "output_type": "execute_result"
    }
   ],
   "source": [
    "mdr_pdframe['is_snp'].value_counts()"
   ]
  },
  {
   "cell_type": "code",
   "execution_count": null,
   "metadata": {},
   "outputs": [],
   "source": []
  },
  {
   "cell_type": "code",
   "execution_count": 22,
   "metadata": {},
   "outputs": [
    {
     "data": {
      "text/plain": [
       "<matplotlib.axes._subplots.AxesSubplot at 0x154332828>"
      ]
     },
     "execution_count": 22,
     "metadata": {},
     "output_type": "execute_result"
    },
    {
     "data": {
      "image/png": "[encoded data removed]",
      "text/plain": [
       "<Figure size 432x288 with 1 Axes>"
      ]
     },
     "metadata": {},
     "output_type": "display_data"
    }
   ],
   "source": [
    "mdr_pdframe['is_snp'].value_counts().plot.bar(title = 'Number of Mutations that are snps')"
   ]
  },
  {
   "cell_type": "code",
   "execution_count": null,
   "metadata": {},
   "outputs": [],
   "source": []
  },
  {
   "cell_type": "code",
   "execution_count": 23,
   "metadata": {},
   "outputs": [
    {
     "data": {
      "text/plain": [
       "NON_SYNONYMOUS_CODING    225\n",
       "SYNONYMOUS_CODING        183\n",
       "FRAME_SHIFT                7\n",
       "CODON_DELETION             4\n",
       "CODON_INSERTION            4\n",
       "SYNONYMOUS_STOP            1\n",
       "Name: SNPEFF_EFFECT, dtype: int64"
      ]
     },
     "execution_count": 23,
     "metadata": {},
     "output_type": "execute_result"
    }
   ],
   "source": [
    "mdr_pdframe['SNPEFF_EFFECT'].value_counts()"
   ]
  },
  {
   "cell_type": "code",
   "execution_count": null,
   "metadata": {},
   "outputs": [],
   "source": []
  },
  {
   "cell_type": "code",
   "execution_count": 24,
   "metadata": {},
   "outputs": [
    {
     "data": {
      "text/plain": [
       "SNPEFF_EFFECT          SNPEFF_IMPACT\n",
       "CODON_DELETION         MODERATE           4\n",
       "CODON_INSERTION        MODERATE           4\n",
       "FRAME_SHIFT            HIGH               7\n",
       "NON_SYNONYMOUS_CODING  MODERATE         225\n",
       "SYNONYMOUS_CODING      LOW              183\n",
       "SYNONYMOUS_STOP        LOW                1\n",
       "Name: FILTER_PASS, dtype: int64"
      ]
     },
     "execution_count": 24,
     "metadata": {},
     "output_type": "execute_result"
    }
   ],
   "source": [
    "kl = mdr_pdframe.groupby(['SNPEFF_EFFECT', 'SNPEFF_IMPACT'])['FILTER_PASS'].count()\n",
    "kl"
   ]
  },
  {
   "cell_type": "code",
   "execution_count": null,
   "metadata": {},
   "outputs": [],
   "source": []
  },
  {
   "cell_type": "code",
   "execution_count": 25,
   "metadata": {},
   "outputs": [
    {
     "data": {
      "text/plain": [
       "<matplotlib.axes._subplots.AxesSubplot at 0x194a76390>"
      ]
     },
     "execution_count": 25,
     "metadata": {},
     "output_type": "execute_result"
    },
    {
     "data": {
      "image/png": "[encoded data removed]",
      "text/plain": [
       "<Figure size 432x288 with 1 Axes>"
      ]
     },
     "metadata": {},
     "output_type": "display_data"
    }
   ],
   "source": [
    "#Generate corresonding plot\n",
    "\n",
    "kl.plot.bar()"
   ]
  },
  {
   "cell_type": "code",
   "execution_count": null,
   "metadata": {},
   "outputs": [],
   "source": []
  },
  {
   "cell_type": "code",
   "execution_count": 26,
   "metadata": {},
   "outputs": [
    {
     "data": {
      "text/plain": [
       "SNPEFF_EFFECT          SNPEFF_IMPACT\n",
       "NON_SYNONYMOUS_CODING  MODERATE         203\n",
       "SYNONYMOUS_CODING      LOW              180\n",
       "SYNONYMOUS_STOP        LOW                1\n",
       "Name: FILTER_PASS, dtype: int64"
      ]
     },
     "execution_count": 26,
     "metadata": {},
     "output_type": "execute_result"
    }
   ],
   "source": [
    "#determine the impact of snpeff_effect for only snps\n",
    "\n",
    "kp = mdr_pdframe[mdr_pdframe['is_snp']].groupby(['SNPEFF_EFFECT', 'SNPEFF_IMPACT'])['FILTER_PASS'].count()\n",
    "kp"
   ]
  },
  {
   "cell_type": "code",
   "execution_count": null,
   "metadata": {},
   "outputs": [],
   "source": []
  },
  {
   "cell_type": "code",
   "execution_count": 27,
   "metadata": {},
   "outputs": [
    {
     "data": {
      "text/plain": [
       "<matplotlib.axes._subplots.AxesSubplot at 0x185ae7c50>"
      ]
     },
     "execution_count": 27,
     "metadata": {},
     "output_type": "execute_result"
    },
    {
     "data": {
      "image/png": "[encoded data removed]",
      "text/plain": [
       "<Figure size 432x288 with 1 Axes>"
      ]
     },
     "metadata": {},
     "output_type": "display_data"
    }
   ],
   "source": [
    "#Generate corresponding plot\n",
    "\n",
    "kp.plot.bar()"
   ]
  },
  {
   "cell_type": "code",
   "execution_count": null,
   "metadata": {},
   "outputs": [],
   "source": []
  },
  {
   "cell_type": "code",
   "execution_count": null,
   "metadata": {},
   "outputs": [],
   "source": []
  },
  {
   "cell_type": "markdown",
   "metadata": {},
   "source": [
    "# END"
   ]
  }
 ],
 "metadata": {
  "kernelspec": {
   "display_name": "Python 3",
   "language": "python",
   "name": "python3"
  },
  "language_info": {
   "codemirror_mode": {
    "name": "ipython",
    "version": 3
   },
   "file_extension": ".py",
   "mimetype": "text/x-python",
   "name": "python",
   "nbconvert_exporter": "python",
   "pygments_lexer": "ipython3",
   "version": "3.6.4"
  }
 },
 "nbformat": 4,
 "nbformat_minor": 2
}
