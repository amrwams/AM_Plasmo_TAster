{
 "cells": [
  {
   "cell_type": "markdown",
   "metadata": {},
   "source": [
    "# Making snp density plots\n"
   ]
  },
  {
   "cell_type": "code",
   "execution_count": null,
   "metadata": {},
   "outputs": [],
   "source": []
  },
  {
   "cell_type": "code",
   "execution_count": 1,
   "metadata": {},
   "outputs": [
    {
     "name": "stdout",
     "output_type": "stream",
     "text": [
      "Hello Plasmodium\n"
     ]
    }
   ],
   "source": [
    "print('Hello Plasmodium')"
   ]
  },
  {
   "cell_type": "code",
   "execution_count": null,
   "metadata": {},
   "outputs": [],
   "source": []
  },
  {
   "cell_type": "code",
   "execution_count": 2,
   "metadata": {},
   "outputs": [
    {
     "name": "stderr",
     "output_type": "stream",
     "text": [
      "/Users/am59/miniconda3/envs/amrwams/lib/python3.6/site-packages/h5py/__init__.py:36: FutureWarning: Conversion of the second argument of issubdtype from `float` to `np.floating` is deprecated. In future, it will be treated as `np.float64 == np.dtype(float).type`.\n",
      "  from ._conv import register_converters as _register_converters\n"
     ]
    }
   ],
   "source": [
    "#import required modules for the plotting and calculations\n",
    "\n",
    "import zarr\n",
    "import allel\n",
    "import numpy as np\n",
    "import matplotlib\n",
    "import matplotlib.pyplot as plt\n",
    "import seaborn as sns"
   ]
  },
  {
   "cell_type": "code",
   "execution_count": null,
   "metadata": {},
   "outputs": [],
   "source": []
  },
  {
   "cell_type": "code",
   "execution_count": 3,
   "metadata": {},
   "outputs": [
    {
     "data": {
      "text/plain": [
       "<zarr.hierarchy.Group '/' read-only>"
      ]
     },
     "execution_count": 3,
     "metadata": {},
     "output_type": "execute_result"
    }
   ],
   "source": [
    "#open zarr file format\n",
    "\n",
    "data = zarr.open('/Volumes/Team112/ra4/pf_60_public_release/Pf_60_public_wg.final.zarr', mode = 'r' )\n",
    "data"
   ]
  },
  {
   "cell_type": "code",
   "execution_count": null,
   "metadata": {},
   "outputs": [],
   "source": []
  },
  {
   "cell_type": "code",
   "execution_count": 4,
   "metadata": {},
   "outputs": [
    {
     "data": {
      "text/plain": [
       "['AC',\n",
       " 'ALT',\n",
       " 'AN',\n",
       " 'CDS',\n",
       " 'CHROM',\n",
       " 'DP',\n",
       " 'FILTER_Centromere',\n",
       " 'FILTER_InternalHypervariable',\n",
       " 'FILTER_Low_VQSLOD',\n",
       " 'FILTER_PASS',\n",
       " 'FILTER_SubtelomericHypervariable',\n",
       " 'FILTER_SubtelomericRepeat',\n",
       " 'ID',\n",
       " 'POS',\n",
       " 'QUAL',\n",
       " 'REF',\n",
       " 'RegionType',\n",
       " 'SNPEFF_AMINO_ACID_CHANGE',\n",
       " 'SNPEFF_CODON_CHANGE',\n",
       " 'SNPEFF_EFFECT',\n",
       " 'SNPEFF_EXON_ID',\n",
       " 'SNPEFF_FUNCTIONAL_CLASS',\n",
       " 'SNPEFF_GENE_NAME',\n",
       " 'SNPEFF_IMPACT',\n",
       " 'SNPEFF_TRANSCRIPT_ID',\n",
       " 'VQSLOD',\n",
       " 'is_snp',\n",
       " 'numalt',\n",
       " 'svlen']"
      ]
     },
     "execution_count": 4,
     "metadata": {},
     "output_type": "execute_result"
    }
   ],
   "source": [
    "#Explore the varriable in the variants tuple- not important if you already know these off 'head disk'\n",
    "\n",
    "list(data['variants'])"
   ]
  },
  {
   "cell_type": "code",
   "execution_count": null,
   "metadata": {},
   "outputs": [],
   "source": []
  },
  {
   "cell_type": "code",
   "execution_count": 5,
   "metadata": {},
   "outputs": [
    {
     "data": {
      "text/html": [
       "<div class=\"allel allel-DisplayAsTable\"><span>&lt;VariantChunkedTable shape=(6051696,) dtype=[('CHROM', 'O'), ('POS', '&lt;i4'), ('FILTER_PASS', '?'), ('is_snp', '?')]\n",
       "   nbytes=80.8M cbytes=9.2M cratio=8.8\n",
       "   values=zarr.hierarchy.Group&gt;</span><table><thead><tr><th></th><th style=\"text-align: center\">CHROM</th><th style=\"text-align: center\">POS</th><th style=\"text-align: center\">FILTER_PASS</th><th style=\"text-align: center\">is_snp</th></tr></thead><tbody><tr><th style=\"text-align: center; background-color: white; border-right: 1px solid black; \">0</th><td style=\"text-align: center\">Pf3D7_01_v3</td><td style=\"text-align: center\">30</td><td style=\"text-align: center\">False</td><td style=\"text-align: center\">False</td></tr><tr><th style=\"text-align: center; background-color: white; border-right: 1px solid black; \">1</th><td style=\"text-align: center\">Pf3D7_01_v3</td><td style=\"text-align: center\">37</td><td style=\"text-align: center\">False</td><td style=\"text-align: center\">False</td></tr><tr><th style=\"text-align: center; background-color: white; border-right: 1px solid black; \">2</th><td style=\"text-align: center\">Pf3D7_01_v3</td><td style=\"text-align: center\">58</td><td style=\"text-align: center\">False</td><td style=\"text-align: center\">False</td></tr><tr><th style=\"text-align: center; background-color: white; border-right: 1px solid black; \">...</th><td style=\"text-align: center\" colspan=\"5\">...</td></tr><tr><th style=\"text-align: center; background-color: white; border-right: 1px solid black; \">6051693</th><td style=\"text-align: center\">Pf_M76611</td><td style=\"text-align: center\">5962</td><td style=\"text-align: center\">False</td><td style=\"text-align: center\">True</td></tr><tr><th style=\"text-align: center; background-color: white; border-right: 1px solid black; \">6051694</th><td style=\"text-align: center\">Pf_M76611</td><td style=\"text-align: center\">5963</td><td style=\"text-align: center\">False</td><td style=\"text-align: center\">True</td></tr><tr><th style=\"text-align: center; background-color: white; border-right: 1px solid black; \">6051695</th><td style=\"text-align: center\">Pf_M76611</td><td style=\"text-align: center\">5964</td><td style=\"text-align: center\">False</td><td style=\"text-align: center\">True</td></tr></tbody></table></div>"
      ],
      "text/plain": [
       "<VariantChunkedTable shape=(6051696,) dtype=[('CHROM', 'O'), ('POS', '<i4'), ('FILTER_PASS', '?'), ('is_snp', '?')]\n",
       "   nbytes=80.8M cbytes=9.2M cratio=8.8\n",
       "   values=zarr.hierarchy.Group>"
      ]
     },
     "execution_count": 5,
     "metadata": {},
     "output_type": "execute_result"
    }
   ],
   "source": [
    "#Generate a chunked table- saves on memory usage but not strictly necessary for the downstream exercise. Could directly work with 'data'. \n",
    "\n",
    "data_chunked = allel.VariantChunkedTable(data['variants'], names = ['CHROM', 'POS', 'FILTER_PASS', 'is_snp'])\n",
    "data_chunked                                            "
   ]
  },
  {
   "cell_type": "code",
   "execution_count": null,
   "metadata": {},
   "outputs": [],
   "source": []
  },
  {
   "cell_type": "code",
   "execution_count": 6,
   "metadata": {},
   "outputs": [
    {
     "data": {
      "text/plain": [
       "array([    30,     37,     58, ..., 640848, 640849, 640850], dtype=int32)"
      ]
     },
     "execution_count": 6,
     "metadata": {},
     "output_type": "execute_result"
    }
   ],
   "source": [
    "#create an array for the snp locations on Chrom #'Pf3D7_01_v3'\n",
    "\n",
    "pos = data_chunked['POS'][:][np.where(data_chunked['CHROM'] == 'Pf3D7_01_v3')]\n",
    "pos"
   ]
  },
  {
   "cell_type": "code",
   "execution_count": null,
   "metadata": {},
   "outputs": [],
   "source": []
  },
  {
   "cell_type": "code",
   "execution_count": 7,
   "metadata": {},
   "outputs": [],
   "source": [
    "#Define a window for the bar plot\n",
    "\n",
    "bins = 5000"
   ]
  },
  {
   "cell_type": "code",
   "execution_count": null,
   "metadata": {},
   "outputs": [],
   "source": []
  },
  {
   "cell_type": "code",
   "execution_count": 8,
   "metadata": {},
   "outputs": [
    {
     "data": {
      "text/plain": [
       "array([     0,   5000,  10000,  15000,  20000,  25000,  30000,  35000,\n",
       "        40000,  45000,  50000,  55000,  60000,  65000,  70000,  75000,\n",
       "        80000,  85000,  90000,  95000, 100000, 105000, 110000, 115000,\n",
       "       120000, 125000, 130000, 135000, 140000, 145000, 150000, 155000,\n",
       "       160000, 165000, 170000, 175000, 180000, 185000, 190000, 195000,\n",
       "       200000, 205000, 210000, 215000, 220000, 225000, 230000, 235000,\n",
       "       240000, 245000, 250000, 255000, 260000, 265000, 270000, 275000,\n",
       "       280000, 285000, 290000, 295000, 300000, 305000, 310000, 315000,\n",
       "       320000, 325000, 330000, 335000, 340000, 345000, 350000, 355000,\n",
       "       360000, 365000, 370000, 375000, 380000, 385000, 390000, 395000,\n",
       "       400000, 405000, 410000, 415000, 420000, 425000, 430000, 435000,\n",
       "       440000, 445000, 450000, 455000, 460000, 465000, 470000, 475000,\n",
       "       480000, 485000, 490000, 495000, 500000, 505000, 510000, 515000,\n",
       "       520000, 525000, 530000, 535000, 540000, 545000, 550000, 555000,\n",
       "       560000, 565000, 570000, 575000, 580000, 585000, 590000, 595000,\n",
       "       600000, 605000, 610000, 615000, 620000, 625000, 630000, 635000,\n",
       "       640000])"
      ]
     },
     "execution_count": 8,
     "metadata": {},
     "output_type": "execute_result"
    }
   ],
   "source": [
    "#Generate a list of values, each having a width of 5000 spanning the entire selected chromosome\n",
    "\n",
    "array = np.arange(0, pos.max(), bins)\n",
    "array"
   ]
  },
  {
   "cell_type": "code",
   "execution_count": null,
   "metadata": {},
   "outputs": [],
   "source": []
  },
  {
   "cell_type": "code",
   "execution_count": 9,
   "metadata": {},
   "outputs": [
    {
     "data": {
      "text/plain": [
       "array([4341, 4678, 4666, 4813, 4492, 4540, 4549, 2905, 1954, 2888, 2898,\n",
       "       2377, 3524, 1600,  638, 1339, 2360, 2568, 3226, 1391, 1067,  894,\n",
       "        800,  866, 1109, 1012, 1054, 1250, 1169, 1170, 1119, 1126, 1193,\n",
       "       1214, 1073, 1057, 1119, 1487, 1327, 1204,  986, 1148, 1033, 1039,\n",
       "       1118,  912,  971, 1074, 1161, 1062,  990, 1124, 1109,  983, 1273,\n",
       "       1097, 1321, 1080, 1109, 1049, 1184,  901, 1408, 1088, 1033, 1024,\n",
       "        980, 1164, 1141, 1484, 1257, 1170, 1064,  743, 1062, 1059, 1034,\n",
       "       1109, 1106, 1173, 1092, 1158, 1232, 1076, 1054, 1084,  794,  885,\n",
       "        950,  798,  489,  380,  366,  310,  489,  793,  799,  997,  961,\n",
       "       1095, 1184, 1329, 1215,  984, 1214, 1184, 1890, 1096, 1575, 1374,\n",
       "       1444, 1161, 2529, 1833, 1308, 1327, 1256,  951, 2751, 3900, 2756,\n",
       "       3255, 4665, 4223, 3535, 3587, 4692, 4747])"
      ]
     },
     "execution_count": 9,
     "metadata": {},
     "output_type": "execute_result"
    }
   ],
   "source": [
    "#Generate counts for each bin- note 'bin' is different from the defined variable 'bins'. \n",
    "\n",
    "hist, t = np.histogram(pos, bins=array)\n",
    "hist"
   ]
  },
  {
   "cell_type": "code",
   "execution_count": null,
   "metadata": {},
   "outputs": [],
   "source": []
  },
  {
   "cell_type": "code",
   "execution_count": 10,
   "metadata": {},
   "outputs": [
    {
     "data": {
      "text/plain": [
       "array([0.8682, 0.9356, 0.9332, 0.9626, 0.8984, 0.908 , 0.9098, 0.581 ,\n",
       "       0.3908, 0.5776, 0.5796, 0.4754, 0.7048, 0.32  , 0.1276, 0.2678,\n",
       "       0.472 , 0.5136, 0.6452, 0.2782, 0.2134, 0.1788, 0.16  , 0.1732,\n",
       "       0.2218, 0.2024, 0.2108, 0.25  , 0.2338, 0.234 , 0.2238, 0.2252,\n",
       "       0.2386, 0.2428, 0.2146, 0.2114, 0.2238, 0.2974, 0.2654, 0.2408,\n",
       "       0.1972, 0.2296, 0.2066, 0.2078, 0.2236, 0.1824, 0.1942, 0.2148,\n",
       "       0.2322, 0.2124, 0.198 , 0.2248, 0.2218, 0.1966, 0.2546, 0.2194,\n",
       "       0.2642, 0.216 , 0.2218, 0.2098, 0.2368, 0.1802, 0.2816, 0.2176,\n",
       "       0.2066, 0.2048, 0.196 , 0.2328, 0.2282, 0.2968, 0.2514, 0.234 ,\n",
       "       0.2128, 0.1486, 0.2124, 0.2118, 0.2068, 0.2218, 0.2212, 0.2346,\n",
       "       0.2184, 0.2316, 0.2464, 0.2152, 0.2108, 0.2168, 0.1588, 0.177 ,\n",
       "       0.19  , 0.1596, 0.0978, 0.076 , 0.0732, 0.062 , 0.0978, 0.1586,\n",
       "       0.1598, 0.1994, 0.1922, 0.219 , 0.2368, 0.2658, 0.243 , 0.1968,\n",
       "       0.2428, 0.2368, 0.378 , 0.2192, 0.315 , 0.2748, 0.2888, 0.2322,\n",
       "       0.5058, 0.3666, 0.2616, 0.2654, 0.2512, 0.1902, 0.5502, 0.78  ,\n",
       "       0.5512, 0.651 , 0.933 , 0.8446, 0.707 , 0.7174, 0.9384, 0.9494])"
      ]
     },
     "execution_count": 10,
     "metadata": {},
     "output_type": "execute_result"
    }
   ],
   "source": [
    "#generate y axis values- per nucleotide base over a 5000 window\n",
    "\n",
    "y = hist/bins\n",
    "y"
   ]
  },
  {
   "cell_type": "code",
   "execution_count": null,
   "metadata": {},
   "outputs": [],
   "source": []
  },
  {
   "cell_type": "code",
   "execution_count": 11,
   "metadata": {},
   "outputs": [
    {
     "data": {
      "text/plain": [
       "array([  2500.,   7500.,  12500.,  17500.,  22500.,  27500.,  32500.,\n",
       "        37500.,  42500.,  47500.,  52500.,  57500.,  62500.,  67500.,\n",
       "        72500.,  77500.,  82500.,  87500.,  92500.,  97500., 102500.,\n",
       "       107500., 112500., 117500., 122500., 127500., 132500., 137500.,\n",
       "       142500., 147500., 152500., 157500., 162500., 167500., 172500.,\n",
       "       177500., 182500., 187500., 192500., 197500., 202500., 207500.,\n",
       "       212500., 217500., 222500., 227500., 232500., 237500., 242500.,\n",
       "       247500., 252500., 257500., 262500., 267500., 272500., 277500.,\n",
       "       282500., 287500., 292500., 297500., 302500., 307500., 312500.,\n",
       "       317500., 322500., 327500., 332500., 337500., 342500., 347500.,\n",
       "       352500., 357500., 362500., 367500., 372500., 377500., 382500.,\n",
       "       387500., 392500., 397500., 402500., 407500., 412500., 417500.,\n",
       "       422500., 427500., 432500., 437500., 442500., 447500., 452500.,\n",
       "       457500., 462500., 467500., 472500., 477500., 482500., 487500.,\n",
       "       492500., 497500., 502500., 507500., 512500., 517500., 522500.,\n",
       "       527500., 532500., 537500., 542500., 547500., 552500., 557500.,\n",
       "       562500., 567500., 572500., 577500., 582500., 587500., 592500.,\n",
       "       597500., 602500., 607500., 612500., 617500., 622500., 627500.,\n",
       "       632500., 637500.])"
      ]
     },
     "execution_count": 11,
     "metadata": {},
     "output_type": "execute_result"
    }
   ],
   "source": [
    "#Generate x coordinates\n",
    "\n",
    "x = (array[1:] + array[:-1])/2\n",
    "x"
   ]
  },
  {
   "cell_type": "code",
   "execution_count": null,
   "metadata": {},
   "outputs": [],
   "source": []
  },
  {
   "cell_type": "code",
   "execution_count": 12,
   "metadata": {},
   "outputs": [
    {
     "data": {
      "image/png": "[encoded data removed]",
      "text/plain": [
       "<Figure size 864x216 with 1 Axes>"
      ]
     },
     "metadata": {},
     "output_type": "display_data"
    }
   ],
   "source": [
    "#Generate plot\n",
    "\n",
    "fig, ax = plt.subplots(figsize=(12,3))\n",
    "ax.plot(x,y, 'r')\n",
    "ax.set(title = 'snp density', ylabel = 'Variant density (bp$^{-1}$)', xlabel = 'Chromosome position (bp)', xlim= [0, 700000], ylim=[0, 1])\n",
    "sns.despine(offset=10, ax=ax);\n",
    "plt.show()\n"
   ]
  },
  {
   "cell_type": "code",
   "execution_count": null,
   "metadata": {},
   "outputs": [],
   "source": []
  },
  {
   "cell_type": "code",
   "execution_count": null,
   "metadata": {},
   "outputs": [],
   "source": []
  },
  {
   "cell_type": "code",
   "execution_count": null,
   "metadata": {},
   "outputs": [],
   "source": []
  },
  {
   "cell_type": "code",
   "execution_count": 13,
   "metadata": {},
   "outputs": [],
   "source": [
    "#Defining a function to make multiple plots based on certain conditions about the data\n",
    "\n",
    "def snp_density_plot(pos, bins = 5000, figure = None, col = 'r'):\n",
    "    #make the bins\n",
    "    array = np.arange(0, pos.max(), bins)\n",
    "    hist, t = np.histogram(pos, bins=array)\n",
    "    y = hist/bins\n",
    "    x = (array[1:] + array[:-1])/2\n",
    "    \n",
    "    #make a graph\n",
    "    if figure:\n",
    "        fig=figure[0]\n",
    "        ax=figure[1]\n",
    "    else:\n",
    "        fig, ax = plt.subplots(figsize = (12,3)) \n",
    "        sns.despine(ax=ax, offset=10)\n",
    "        \n",
    "    ax.plot(x,y, col)\n",
    "    ax.set(title = 'Raw variant density', ylabel = 'Variant density (bp$^{-1}$)', xlabel = 'Chromosome position (bp)', xlim= [0, 700000], ylim = [0,1])\n",
    "    plt.show()\n",
    "    \n",
    "    return fig, ax"
   ]
  },
  {
   "cell_type": "code",
   "execution_count": null,
   "metadata": {},
   "outputs": [],
   "source": []
  },
  {
   "cell_type": "code",
   "execution_count": 14,
   "metadata": {},
   "outputs": [
    {
     "data": {
      "image/png": "[encoded data removed]",
      "text/plain": [
       "<Figure size 864x216 with 1 Axes>"
      ]
     },
     "execution_count": 14,
     "metadata": {},
     "output_type": "execute_result"
    }
   ],
   "source": [
    "#to explicitly understand the graphing dynamics, you need to understand what 'fig' and 'ax' represent\n",
    "\n",
    "npos = data_chunked['POS'][:][np.where((data_chunked['CHROM'] == 'Pf3D7_01_v3') & data_chunked['FILTER_PASS'])]\n",
    "fig, ax = snp_density_plot(npos, bins = 5000, figure = [fig, ax], col = 'b')\n",
    "\n",
    "npos = data_chunked['POS'][:][np.where((data_chunked['CHROM'] == 'Pf3D7_01_v3') & data_chunked['is_snp'])]\n",
    "fig, ax = snp_density_plot(npos, bins = 5000, figure = [fig, ax], col = 'g')\n",
    "\n",
    "npos = data_chunked['POS'][:][np.where((data_chunked['CHROM'] == 'Pf3D7_01_v3') & data_chunked['is_snp'] & data_chunked['FILTER_PASS'])]\n",
    "fig, ax = snp_density_plot(npos, bins = 5000, figure = [fig, ax], col = 'k')\n",
    "\n",
    "\n",
    "fig\n",
    "\n"
   ]
  },
  {
   "cell_type": "markdown",
   "metadata": {},
   "source": []
  },
  {
   "cell_type": "markdown",
   "metadata": {},
   "source": [
    "###### End"
   ]
  }
 ],
 "metadata": {
  "kernelspec": {
   "display_name": "Python 3",
   "language": "python",
   "name": "python3"
  },
  "language_info": {
   "codemirror_mode": {
    "name": "ipython",
    "version": 3
   },
   "file_extension": ".py",
   "mimetype": "text/x-python",
   "name": "python",
   "nbconvert_exporter": "python",
   "pygments_lexer": "ipython3",
   "version": "3.6.4"
  }
 },
 "nbformat": 4,
 "nbformat_minor": 2
}
